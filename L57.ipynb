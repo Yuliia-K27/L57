{
 "cells": [
  {
   "cell_type": "markdown",
   "metadata": {
    "colab_type": "text",
    "id": "view-in-github"
   },
   "source": [
    "<a href=\"https://colab.research.google.com/github/SharovarovAleksandr/Academy/blob/main/Lesson57/Lesson57_1.ipynb\" target=\"_parent\"><img src=\"https://colab.research.google.com/assets/colab-badge.svg\" alt=\"Open In Colab\"/></a>"
   ]
  },
  {
   "cell_type": "markdown",
   "metadata": {
    "id": "k81qRfZHB_JC"
   },
   "source": [
    "### Завдання"
   ]
  },
  {
   "cell_type": "markdown",
   "metadata": {
    "id": "nNVf_zlRCNwy"
   },
   "source": [
    "#### За допомогою бібліотеки  openCV створити функцію:\n",
    " - для зчитування зображення з диску та відображення його на екрані.\n",
    " - для збереження зображення на диск\n",
    " - для зміни контрасності\n",
    " - для зміни яскравості\n",
    " - для зміни насиченості кольору\n",
    " - для зміни розміру зображення\n",
    " - для обізання границь зображення\n",
    " - для повороту зображення\n"
   ]
  },
  {
   "cell_type": "code",
   "execution_count": 1,
   "metadata": {
    "id": "yPMOHDJwaEcG"
   },
   "outputs": [],
   "source": [
    "import pandas as pd\n",
    "import numpy as nu\n",
    "import cv2 as cv2"
   ]
  },
  {
   "cell_type": "code",
   "execution_count": 2,
   "metadata": {},
   "outputs": [],
   "source": [
    "def loading(file):\n",
    "    img = cv2.imread(file, cv2.IMREAD_COLOR)\n",
    "    cv2.imshow('Image', img)\n",
    "    cv2.waitKey(0)\n",
    "    cv2.destroyAllWindows()\n",
    "    return img"
   ]
  },
  {
   "cell_type": "code",
   "execution_count": 3,
   "metadata": {},
   "outputs": [],
   "source": [
    "# Функція запису зображення на диск\n",
    "def writing(img):\n",
    "    cv2.imwrite('eifel.jpg', img)\n",
    "    return 'Writing complete'"
   ]
  },
  {
   "cell_type": "code",
   "execution_count": 4,
   "metadata": {},
   "outputs": [],
   "source": [
    "# Функція (прімітив) корекції контрасності та яркості зобрачення \n",
    "def contrast_brightness(img):\n",
    "    x=float(input('Введіть коефіціент корекції контрастності зображення [0:3]: '))\n",
    "    y=float(input('Введіть коефіціент корекції яркості зображення [-200:200]: '))\n",
    "    return img*x+y"
   ]
  },
  {
   "cell_type": "code",
   "execution_count": 5,
   "metadata": {},
   "outputs": [],
   "source": [
    "# Функція автоматичного контрастування\n",
    "def auto_contrast(img):\n",
    "    clahe = cv2.createCLAHE(clipLimit=3., tileGridSize=(8,8))\n",
    "    lab = cv2.cvtColor(img, cv2.COLOR_BGR2LAB)  \n",
    "    l, a, b = cv2.split(lab)  \n",
    "    l2 = clahe.apply(l)  \n",
    "    lab = cv2.merge((l2,a,b)) \n",
    "    return cv2.cvtColor(lab, cv2.COLOR_LAB2BGR) "
   ]
  },
  {
   "cell_type": "code",
   "execution_count": 6,
   "metadata": {},
   "outputs": [],
   "source": [
    "# Функція зміни кольорової насиченості зображення\n",
    "def saturation(img):\n",
    "    x=float(input('Введіть коефіціент зміни кольорової насиченості зображення [0:5] : '))\n",
    "    hsv_img = cv2.cvtColor(img, cv2.COLOR_BGR2HSV)\n",
    "    hsv_img[:, :, 1] = hsv_img[:, :, 1] * x\n",
    "    return cv2.cvtColor(hsv_img, cv2.COLOR_HSV2BGR)"
   ]
  },
  {
   "cell_type": "code",
   "execution_count": 7,
   "metadata": {},
   "outputs": [],
   "source": [
    "#  Функція обрізання фотографії\n",
    "def cropped(img):\n",
    "    size=img.shape\n",
    "    print('Розмір зображення ', size[0],'x',size[1])\n",
    "    x1=int(input('Введіть координату х1 : '))\n",
    "    y1=int(input('Введіть координату y1 : '))\n",
    "    x2=int(input('Введіть координату х2 : '))\n",
    "    y2=int(input('Введіть координату y2 : '))\n",
    "    return img[x1:x2,y1:y2]"
   ]
  },
  {
   "cell_type": "code",
   "execution_count": 8,
   "metadata": {},
   "outputs": [],
   "source": [
    "# Функція зміни розміру фотографії\n",
    "def resize(img):\n",
    "    size=img.shape\n",
    "    print('Розмір оригінального зображення ', size[0],'x',size[1])\n",
    "    x=float(input('Введіть коефіціент перетворення розміру зображення : '))\n",
    "    width = int(size[1] * x)\n",
    "    height = int(size[0] * x)\n",
    "    print('Розмір зображення після перетворення ',width,'x',height)\n",
    "    dim = (width, height)\n",
    "    return cv2.resize(img, dim, interpolation = cv2.INTER_AREA)"
   ]
  },
  {
   "cell_type": "code",
   "execution_count": 9,
   "metadata": {},
   "outputs": [],
   "source": [
    "# Функція повороту зображення\n",
    "def rotation(img):\n",
    "    angl=int(input('Введіть кут повороту зображення у градусах : '))\n",
    "    size = img.shape\n",
    "    center = (size[1] // 2, size[0] // 2)\n",
    "    new_img=cv2.getRotationMatrix2D(center, angl, 1.0)\n",
    "    rotated = cv2.warpAffine(img, new_img, (size[1], size[0]))\n",
    "    return rotated"
   ]
  },
  {
   "cell_type": "markdown",
   "metadata": {
    "id": "MHRCP85sES9m"
   },
   "source": [
    "### Завантаження зображення"
   ]
  },
  {
   "cell_type": "code",
   "execution_count": null,
   "metadata": {
    "colab": {
     "base_uri": "https://localhost:8080/",
     "height": 808
    },
    "id": "oM2u_c8Kdpr9",
    "outputId": "03e6de50-c616-46aa-ee6f-a5b2cde41696"
   },
   "outputs": [],
   "source": [
    "file='eifel.jpg'\n",
    "img=loading(file)\n",
    "img=resize(img)"
   ]
  },
  {
   "cell_type": "markdown",
   "metadata": {
    "id": "0KmoUYUjEelg"
   },
   "source": [
    "### Запис зображення на диск"
   ]
  },
  {
   "cell_type": "code",
   "execution_count": null,
   "metadata": {
    "colab": {
     "base_uri": "https://localhost:8080/",
     "height": 35
    },
    "id": "yW8tT_PTjXNU",
    "outputId": "907aa4e5-ea05-49f4-c47e-ff6fe06c9f3c"
   },
   "outputs": [],
   "source": [
    "writing(img)"
   ]
  },
  {
   "cell_type": "code",
   "execution_count": null,
   "metadata": {
    "colab": {
     "base_uri": "https://localhost:8080/"
    },
    "id": "VHpn0uh5lFKO",
    "outputId": "45b80ea3-21ac-4113-e3f2-253af31f19c7"
   },
   "outputs": [],
   "source": [
    "img.shape"
   ]
  },
  {
   "cell_type": "markdown",
   "metadata": {
    "id": "UKAE423vEpHG"
   },
   "source": [
    "### Обрізання границь зображення"
   ]
  },
  {
   "cell_type": "code",
   "execution_count": null,
   "metadata": {
    "colab": {
     "base_uri": "https://localhost:8080/",
     "height": 222
    },
    "id": "gHqFSXZ-lH9i",
    "outputId": "994a8f96-94b0-4ff7-c681-08e3ef4d878e"
   },
   "outputs": [],
   "source": [
    "cv2_imshow(cropped(img))"
   ]
  },
  {
   "cell_type": "markdown",
   "metadata": {
    "id": "wcJ_7qH5Ew-O"
   },
   "source": [
    "### Зміна розміру зображення"
   ]
  },
  {
   "cell_type": "code",
   "execution_count": null,
   "metadata": {
    "colab": {
     "base_uri": "https://localhost:8080/",
     "height": 581
    },
    "id": "SFwgWxjupqsE",
    "outputId": "93bf5be6-755d-43ca-9068-5ef04178cc43"
   },
   "outputs": [],
   "source": [
    "cv2_imshow(resize(img))"
   ]
  },
  {
   "cell_type": "markdown",
   "metadata": {
    "id": "GcGkOSEdE4vh"
   },
   "source": [
    "### Поворот зображення на визначений кут"
   ]
  },
  {
   "cell_type": "code",
   "execution_count": null,
   "metadata": {
    "colab": {
     "base_uri": "https://localhost:8080/",
     "height": 603
    },
    "id": "_m9S3GSzt0_W",
    "outputId": "efcb8666-5067-416e-b1ac-324ad66084c4"
   },
   "outputs": [],
   "source": [
    "cv2_imshow(rotation(img))"
   ]
  },
  {
   "cell_type": "markdown",
   "metadata": {
    "id": "EhLOl42zFAi7"
   },
   "source": [
    "### Зміна контрасності та яркості зображення"
   ]
  },
  {
   "cell_type": "code",
   "execution_count": null,
   "metadata": {
    "colab": {
     "base_uri": "https://localhost:8080/",
     "height": 621
    },
    "id": "JtpwDm1HzP4-",
    "outputId": "d0affbb2-1215-4e3e-d0a0-82917b2d8080"
   },
   "outputs": [],
   "source": [
    "cv2_imshow(contrast_brightness(img))"
   ]
  },
  {
   "cell_type": "markdown",
   "metadata": {
    "id": "f9gM_M9iFG8a"
   },
   "source": [
    "### Автоматична зміна контрасності зображення"
   ]
  },
  {
   "cell_type": "code",
   "execution_count": null,
   "metadata": {
    "colab": {
     "base_uri": "https://localhost:8080/",
     "height": 586
    },
    "id": "kWyzVprYzb2S",
    "outputId": "4e6aa4ee-eed1-4fff-d247-05afa607e97f"
   },
   "outputs": [],
   "source": [
    "cv2_imshow(auto_contrast(img))"
   ]
  },
  {
   "cell_type": "markdown",
   "metadata": {
    "id": "YgHqX2pbFNjm"
   },
   "source": [
    "### Зміна насиченості кольору зображення"
   ]
  },
  {
   "cell_type": "code",
   "execution_count": null,
   "metadata": {
    "colab": {
     "base_uri": "https://localhost:8080/",
     "height": 603
    },
    "id": "HZ0Y6IDP7Vj7",
    "outputId": "d006e7cf-56f9-4d83-836a-1009fbf09170"
   },
   "outputs": [],
   "source": [
    "cv2_imshow(saturation(img))"
   ]
  },
  {
   "cell_type": "code",
   "execution_count": null,
   "metadata": {
    "colab": {
     "base_uri": "https://localhost:8080/",
     "height": 603
    },
    "id": "gWBWCUA8AH_l",
    "outputId": "7976d1cd-2f8f-4f49-a1d2-06a87235e8a6"
   },
   "outputs": [],
   "source": [
    "cv2_imshow(saturation(img))\n"
   ]
  },
  {
   "cell_type": "code",
   "execution_count": null,
   "metadata": {
    "id": "UE8AA_qFBUKX"
   },
   "outputs": [],
   "source": []
  }
 ],
 "metadata": {
  "colab": {
   "authorship_tag": "ABX9TyOc7SKwozl5bCKFypW1SlIB",
   "include_colab_link": true,
   "mount_file_id": "1zA-REtkKO0Shla_FUIsqi1lKrGql_0CE",
   "provenance": []
  },
  "kernelspec": {
   "display_name": "Python 3 (ipykernel)",
   "language": "python",
   "name": "python3"
  },
  "language_info": {
   "codemirror_mode": {
    "name": "ipython",
    "version": 3
   },
   "file_extension": ".py",
   "mimetype": "text/x-python",
   "name": "python",
   "nbconvert_exporter": "python",
   "pygments_lexer": "ipython3",
   "version": "3.9.13"
  }
 },
 "nbformat": 4,
 "nbformat_minor": 4
}
